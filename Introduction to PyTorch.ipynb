{
 "cells": [
  {
   "cell_type": "code",
   "execution_count": 1,
   "metadata": {},
   "outputs": [],
   "source": [
    "import torch"
   ]
  },
  {
   "cell_type": "code",
   "execution_count": 2,
   "metadata": {},
   "outputs": [],
   "source": [
    "import torchvision"
   ]
  },
  {
   "cell_type": "code",
   "execution_count": 3,
   "metadata": {},
   "outputs": [
    {
     "name": "stdout",
     "output_type": "stream",
     "text": [
      "False\n"
     ]
    }
   ],
   "source": [
    "print(torch.cuda.is_available())"
   ]
  },
  {
   "cell_type": "markdown",
   "metadata": {},
   "source": [
    "### PyTorch Tensors"
   ]
  },
  {
   "cell_type": "code",
   "execution_count": 4,
   "metadata": {},
   "outputs": [
    {
     "name": "stdout",
     "output_type": "stream",
     "text": [
      "tensor([1, 2, 3, 4, 5])\n"
     ]
    }
   ],
   "source": [
    "# 1-D tensor\n",
    "a = torch.tensor([1,2,3,4,5])\n",
    "print(a)"
   ]
  },
  {
   "cell_type": "code",
   "execution_count": 6,
   "metadata": {},
   "outputs": [
    {
     "name": "stdout",
     "output_type": "stream",
     "text": [
      "tensor([[ 1,  2,  3],\n",
      "        [ 4,  5,  6],\n",
      "        [ 7,  8,  9],\n",
      "        [10, 11, 12]])\n"
     ]
    }
   ],
   "source": [
    "# 2-D tensor\n",
    "b = torch.tensor([[1,2,3],[4,5,6],[7,8,9],[10,11,12]])\n",
    "print(b)"
   ]
  },
  {
   "cell_type": "code",
   "execution_count": 7,
   "metadata": {
    "scrolled": true
   },
   "outputs": [
    {
     "name": "stdout",
     "output_type": "stream",
     "text": [
      "torch.Size([5])\n",
      "torch.Size([4, 3])\n",
      "torch.Size([5])\n",
      "torch.Size([4, 3])\n"
     ]
    }
   ],
   "source": [
    "# The size of tensors\n",
    "print(a.shape)\n",
    "print(b.shape)\n",
    "print(a.size())\n",
    "print(b.size())"
   ]
  },
  {
   "cell_type": "code",
   "execution_count": 8,
   "metadata": {},
   "outputs": [
    {
     "name": "stdout",
     "output_type": "stream",
     "text": [
      "4\n"
     ]
    }
   ],
   "source": [
    "# Get the height/number of rows of b\n",
    "print(b.shape[0])"
   ]
  },
  {
   "cell_type": "code",
   "execution_count": 9,
   "metadata": {},
   "outputs": [],
   "source": [
    "# Creating a float tensor\n",
    "c = torch.FloatTensor([[2,1,4],[3,5,4],[1,2,0],[4,3,2]])"
   ]
  },
  {
   "cell_type": "code",
   "execution_count": 10,
   "metadata": {},
   "outputs": [],
   "source": [
    "d = torch.DoubleTensor([[2,1,4],[3,5,4],[1,2,0],[4,3,2]])"
   ]
  },
  {
   "cell_type": "code",
   "execution_count": 11,
   "metadata": {},
   "outputs": [
    {
     "name": "stdout",
     "output_type": "stream",
     "text": [
      "tensor([[2., 1., 4.],\n",
      "        [3., 5., 4.],\n",
      "        [1., 2., 0.],\n",
      "        [4., 3., 2.]])\n",
      "torch.float32\n"
     ]
    }
   ],
   "source": [
    "print(c)\n",
    "print(c.dtype)"
   ]
  },
  {
   "cell_type": "code",
   "execution_count": 12,
   "metadata": {},
   "outputs": [
    {
     "name": "stdout",
     "output_type": "stream",
     "text": [
      "tensor([[2., 1., 4.],\n",
      "        [3., 5., 4.],\n",
      "        [1., 2., 0.],\n",
      "        [4., 3., 2.]], dtype=torch.float64)\n",
      "torch.float64\n"
     ]
    }
   ],
   "source": [
    "print(d)\n",
    "print(d.dtype)"
   ]
  },
  {
   "cell_type": "code",
   "execution_count": 13,
   "metadata": {},
   "outputs": [
    {
     "name": "stdout",
     "output_type": "stream",
     "text": [
      "tensor(2.5833)\n"
     ]
    }
   ],
   "source": [
    "print(c.mean())"
   ]
  },
  {
   "cell_type": "code",
   "execution_count": 14,
   "metadata": {},
   "outputs": [
    {
     "name": "stdout",
     "output_type": "stream",
     "text": [
      "tensor(2.5833, dtype=torch.float64)\n"
     ]
    }
   ],
   "source": [
    "print(d.mean())"
   ]
  },
  {
   "cell_type": "code",
   "execution_count": 15,
   "metadata": {
    "scrolled": true
   },
   "outputs": [
    {
     "name": "stdout",
     "output_type": "stream",
     "text": [
      "tensor([[ 1],\n",
      "        [ 2],\n",
      "        [ 3],\n",
      "        [ 4],\n",
      "        [ 5],\n",
      "        [ 6],\n",
      "        [ 7],\n",
      "        [ 8],\n",
      "        [ 9],\n",
      "        [10],\n",
      "        [11],\n",
      "        [12]])\n",
      "tensor([ 1,  2,  3,  4,  5,  6,  7,  8,  9, 10, 11, 12])\n",
      "tensor([[ 1,  2,  3,  4],\n",
      "        [ 5,  6,  7,  8],\n",
      "        [ 9, 10, 11, 12]])\n",
      "tensor([[ 1,  2,  3,  4],\n",
      "        [ 5,  6,  7,  8],\n",
      "        [ 9, 10, 11, 12]])\n",
      "tensor([[ 1,  2,  3,  4,  5,  6,  7,  8,  9, 10, 11, 12]])\n",
      "torch.Size([1, 12])\n",
      "\n",
      "\n",
      "\n",
      "\n",
      "tensor([[[ 0.3190, -1.2009, -0.8806,  0.3444],\n",
      "         [-0.3331, -2.2965,  0.6967,  0.8204],\n",
      "         [ 0.5752,  1.2003,  0.3377, -0.8904]],\n",
      "\n",
      "        [[-0.3442, -0.2970,  1.0511, -0.6119],\n",
      "         [-0.4607, -0.9849, -0.2095, -0.9990],\n",
      "         [-1.0417, -1.5232, -0.4276,  0.7627]]])\n",
      "tensor([[ 0.3190, -1.2009, -0.8806,  0.3444, -0.3331, -2.2965,  0.6967,  0.8204,\n",
      "          0.5752,  1.2003,  0.3377, -0.8904],\n",
      "        [-0.3442, -0.2970,  1.0511, -0.6119, -0.4607, -0.9849, -0.2095, -0.9990,\n",
      "         -1.0417, -1.5232, -0.4276,  0.7627]])\n",
      "tensor([[ 0.3190, -1.2009, -0.8806,  0.3444, -0.3331, -2.2965,  0.6967,  0.8204,\n",
      "          0.5752,  1.2003,  0.3377, -0.8904],\n",
      "        [-0.3442, -0.2970,  1.0511, -0.6119, -0.4607, -0.9849, -0.2095, -0.9990,\n",
      "         -1.0417, -1.5232, -0.4276,  0.7627]])\n"
     ]
    }
   ],
   "source": [
    "# Reshaping Dimensions\n",
    "# Note if one of the dimensions is -1, its size can be inferred\n",
    "print(b.view(-1,1))\n",
    "print(b.view(12))\n",
    "print(b.view(-1,4))\n",
    "print(b.view(3,4))\n",
    "\n",
    "# Assign b a new shape\n",
    "b = b.view(1,-1)\n",
    "print(b)\n",
    "print(b.shape)\n",
    "\n",
    "# Reshaping 3-D Tensors\n",
    "print('\\n')\n",
    "# Create a 3-D Tensor with 2 channels, 3 rows and 4 columns (channels, rows, columns)\n",
    "three_dim = torch.randn(2, 3, 4)\n",
    "print('\\n')\n",
    "print(three_dim)\n",
    "print(three_dim.view(2,12)) # reshape to 2 rows, 12 columns\n",
    "print(three_dim.view(2, -1))"
   ]
  },
  {
   "cell_type": "code",
   "execution_count": 16,
   "metadata": {},
   "outputs": [
    {
     "name": "stdout",
     "output_type": "stream",
     "text": [
      "tensor([[0.2759, 0.6062, 0.1990, 0.3906],\n",
      "        [0.3990, 0.5670, 0.9401, 0.8140],\n",
      "        [0.1454, 0.6815, 0.4137, 0.7495],\n",
      "        [0.3258, 0.8657, 0.9298, 0.6131]])\n"
     ]
    }
   ],
   "source": [
    "# Create a matrix with random numbers between 0 and 1\n",
    "r = torch.rand(4,4)\n",
    "print(r)"
   ]
  },
  {
   "cell_type": "code",
   "execution_count": 17,
   "metadata": {},
   "outputs": [
    {
     "name": "stdout",
     "output_type": "stream",
     "text": [
      "tensor([[ 0.3786, -0.1303, -0.5101, -0.1229],\n",
      "        [-0.2366,  0.0209, -0.4130, -1.8125],\n",
      "        [ 0.4050,  1.4069, -0.7185,  1.0751],\n",
      "        [-0.0021, -0.7168, -0.6318, -0.8820]])\n",
      "torch.float32\n"
     ]
    }
   ],
   "source": [
    "# create a matrix wth random numbers taken from a normal dstribution with mean 0 and variance 1\n",
    "r2 = torch.randn(4,4)\n",
    "print(r2)\n",
    "print(r2.dtype)"
   ]
  },
  {
   "cell_type": "code",
   "execution_count": 19,
   "metadata": {},
   "outputs": [
    {
     "name": "stdout",
     "output_type": "stream",
     "text": [
      "tensor([8, 6, 7, 9, 9])\n",
      "torch.int64\n"
     ]
    }
   ],
   "source": [
    "# create an array of 5 random integers from values between 6 and 9(exlusive of 10)\n",
    "in_array = torch.randint(6,10,(5,))\n",
    "print(in_array)\n",
    "print(in_array.dtype)"
   ]
  },
  {
   "cell_type": "code",
   "execution_count": 20,
   "metadata": {},
   "outputs": [
    {
     "name": "stdout",
     "output_type": "stream",
     "text": [
      "tensor([[9, 6, 8],\n",
      "        [8, 9, 9],\n",
      "        [7, 6, 8]])\n",
      "torch.int64\n"
     ]
    }
   ],
   "source": [
    "# create a 2-D array (or matrix) of size 3x3 random integers from values between 6 and 9(exlusive of 10)\n",
    "in_array2 = torch.randint(6,10,(3,3))\n",
    "print(in_array2)\n",
    "print(in_array2.dtype)"
   ]
  },
  {
   "cell_type": "code",
   "execution_count": 22,
   "metadata": {},
   "outputs": [
    {
     "name": "stdout",
     "output_type": "stream",
     "text": [
      "5\n",
      "9\n"
     ]
    }
   ],
   "source": [
    "# Get the number of elements in an array\n",
    "print(torch.numel(in_array))\n",
    "print(torch.numel(in_array2))"
   ]
  },
  {
   "cell_type": "code",
   "execution_count": 24,
   "metadata": {},
   "outputs": [
    {
     "name": "stdout",
     "output_type": "stream",
     "text": [
      "tensor([[0, 0, 0],\n",
      "        [0, 0, 0],\n",
      "        [0, 0, 0]])\n",
      "tensor([[1., 1., 1.],\n",
      "        [1., 1., 1.],\n",
      "        [1., 1., 1.]])\n",
      "torch.float32\n"
     ]
    }
   ],
   "source": [
    "# Construct a 3x3 matrix of zeros and of dtype long\n",
    "z = torch.zeros(3,3, dtype=torch.long)\n",
    "print(z)\n",
    "\n",
    "# construct a 3x3 matrix of ones\n",
    "o = torch.ones(3,3)\n",
    "print(o)\n",
    "print(o.dtype)"
   ]
  },
  {
   "cell_type": "code",
   "execution_count": 25,
   "metadata": {},
   "outputs": [
    {
     "name": "stdout",
     "output_type": "stream",
     "text": [
      "tensor([[-1.6278, -1.1468, -0.4879, -0.0584],\n",
      "        [ 0.7172, -0.4084,  2.7190,  0.7063],\n",
      "        [ 0.2640,  0.7372,  0.4155, -0.9387],\n",
      "        [-1.4283, -0.3509,  1.2146,  1.4657]], dtype=torch.float64)\n"
     ]
    }
   ],
   "source": [
    "# convert the data type of the tensors\n",
    "r2_like = torch.randn_like(r2, dtype=torch.double)\n",
    "print(r2_like)"
   ]
  },
  {
   "cell_type": "code",
   "execution_count": 26,
   "metadata": {},
   "outputs": [
    {
     "name": "stdout",
     "output_type": "stream",
     "text": [
      "tensor([[ 0.6544,  0.4758, -0.3110,  0.2677],\n",
      "        [ 0.1624,  0.5878,  0.5270, -0.9985],\n",
      "        [ 0.5504,  2.0884, -0.3048,  1.8246],\n",
      "        [ 0.3237,  0.1489,  0.2980, -0.2689]])\n"
     ]
    }
   ],
   "source": [
    "# Add two tensors, make sure they are the same size and data type\n",
    "add_result = torch.add(r, r2)\n",
    "print(add_result)"
   ]
  },
  {
   "cell_type": "code",
   "execution_count": 27,
   "metadata": {},
   "outputs": [
    {
     "name": "stdout",
     "output_type": "stream",
     "text": [
      "tensor([[ 0.6544,  0.4758, -0.3110,  0.2677],\n",
      "        [ 0.1624,  0.5878,  0.5270, -0.9985],\n",
      "        [ 0.5504,  2.0884, -0.3048,  1.8246],\n",
      "        [ 0.3237,  0.1489,  0.2980, -0.2689]])\n"
     ]
    }
   ],
   "source": [
    "# I-place addition (change the value of r2)\n",
    "r2.add_(r) # you do not need to do r2 = torch.add(r,r2)\n",
    "print(r2)"
   ]
  },
  {
   "cell_type": "code",
   "execution_count": 28,
   "metadata": {},
   "outputs": [
    {
     "name": "stdout",
     "output_type": "stream",
     "text": [
      "tensor([0.4758, 0.5878, 2.0884, 0.1489])\n",
      "tensor([[0.6544, 0.4758],\n",
      "        [0.1624, 0.5878],\n",
      "        [0.5504, 2.0884],\n",
      "        [0.3237, 0.1489]])\n",
      "tensor([[ 0.6544,  0.4758, -0.3110,  0.2677],\n",
      "        [ 0.1624,  0.5878,  0.5270, -0.9985],\n",
      "        [ 0.5504,  2.0884, -0.3048,  1.8246]])\n",
      "tensor(1.8246)\n",
      "1.8246291875839233\n",
      "tensor([ 0.5504,  2.0884, -0.3048,  1.8246])\n"
     ]
    }
   ],
   "source": [
    "# matrix slicing \n",
    "print(r2[:,1])\n",
    "print(r2[:,:2])\n",
    "print(r2[:3,:])\n",
    "num_ten = r2[2,3]\n",
    "print(num_ten)\n",
    "print(num_ten.item())\n",
    "print(r2[2,:])"
   ]
  },
  {
   "cell_type": "code",
   "execution_count": null,
   "metadata": {},
   "outputs": [],
   "source": []
  }
 ],
 "metadata": {
  "kernelspec": {
   "display_name": "Python 3",
   "language": "python",
   "name": "python3"
  },
  "language_info": {
   "codemirror_mode": {
    "name": "ipython",
    "version": 3
   },
   "file_extension": ".py",
   "mimetype": "text/x-python",
   "name": "python",
   "nbconvert_exporter": "python",
   "pygments_lexer": "ipython3",
   "version": "3.7.6"
  }
 },
 "nbformat": 4,
 "nbformat_minor": 4
}
